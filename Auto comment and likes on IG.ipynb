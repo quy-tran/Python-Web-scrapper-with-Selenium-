{
 "cells": [
  {
   "cell_type": "code",
   "execution_count": 1,
   "metadata": {},
   "outputs": [],
   "source": [
    "# This just stores my username and password for IG, you can skip this\n",
    "import IG_secret\n"
   ]
  },
  {
   "cell_type": "code",
   "execution_count": 2,
   "metadata": {},
   "outputs": [],
   "source": [
    "#import libraries\n",
    "from selenium import webdriver  #our web driver\n",
    "from selenium.webdriver.common.keys import Keys\n",
    "from time import sleep   #creates delay to mimic human behavior\n",
    "from random import randint  #randomizes our delays\n",
    "import pandas as pd\n"
   ]
  },
  {
   "cell_type": "code",
   "execution_count": 3,
   "metadata": {},
   "outputs": [
    {
     "name": "stdout",
     "output_type": "stream",
     "text": [
      "\n",
      "Looking for [chromedriver 83.0.4103.39 win32] driver in cache \n",
      "File found in cache by path [C:\\Users\\trnqu\\.wdm\\drivers\\chromedriver\\83.0.4103.39\\win32\\chromedriver.exe]\n"
     ]
    }
   ],
   "source": [
    "#lets download and open our chrome webdriver, you should see chrome open with a text 'chrome is being controled by automated test software'\n",
    "from webdriver_manager.chrome import ChromeDriverManager\n",
    "webdriver = webdriver.Chrome(ChromeDriverManager().install())\n"
   ]
  },
  {
   "cell_type": "code",
   "execution_count": 4,
   "metadata": {},
   "outputs": [],
   "source": [
    "#open our instagram login screen\n",
    "sleep(2)\n",
    "webdriver.get('https://www.instagram.com/accounts/login/?source=auth_switcher')\n",
    "sleep(3)"
   ]
  },
  {
   "cell_type": "code",
   "execution_count": 40,
   "metadata": {},
   "outputs": [
    {
     "ename": "NoSuchElementException",
     "evalue": "Message: no such element: Unable to locate element: {\"method\":\"xpath\",\"selector\":\"/html/body/div[4]/div/div/div[3]/button[2]\"}\n  (Session info: chrome=83.0.4103.116)\n",
     "output_type": "error",
     "traceback": [
      "\u001b[1;31m---------------------------------------------------------------------------\u001b[0m",
      "\u001b[1;31mNoSuchElementException\u001b[0m                    Traceback (most recent call last)",
      "\u001b[1;32m<ipython-input-40-b21d46d4fdf5>\u001b[0m in \u001b[0;36m<module>\u001b[1;34m\u001b[0m\n\u001b[0;32m     15\u001b[0m \u001b[1;33m\u001b[0m\u001b[0m\n\u001b[0;32m     16\u001b[0m \u001b[0mnotnow\u001b[0m\u001b[1;33m=\u001b[0m\u001b[1;34m'/html/body/div[4]/div/div/div[3]/button[2]'\u001b[0m\u001b[1;33m\u001b[0m\u001b[1;33m\u001b[0m\u001b[0m\n\u001b[1;32m---> 17\u001b[1;33m \u001b[0mwebdriver\u001b[0m\u001b[1;33m.\u001b[0m\u001b[0mfind_element_by_xpath\u001b[0m\u001b[1;33m(\u001b[0m\u001b[0mnotnow\u001b[0m\u001b[1;33m)\u001b[0m\u001b[1;33m.\u001b[0m\u001b[0mclick\u001b[0m\u001b[1;33m(\u001b[0m\u001b[1;33m)\u001b[0m \u001b[1;31m#comment these last 2 lines out, if you don't get a pop up asking about notifications\u001b[0m\u001b[1;33m\u001b[0m\u001b[1;33m\u001b[0m\u001b[0m\n\u001b[0m",
      "\u001b[1;32m~\\anaconda3\\lib\\site-packages\\selenium\\webdriver\\remote\\webdriver.py\u001b[0m in \u001b[0;36mfind_element_by_xpath\u001b[1;34m(self, xpath)\u001b[0m\n\u001b[0;32m    392\u001b[0m             \u001b[0melement\u001b[0m \u001b[1;33m=\u001b[0m \u001b[0mdriver\u001b[0m\u001b[1;33m.\u001b[0m\u001b[0mfind_element_by_xpath\u001b[0m\u001b[1;33m(\u001b[0m\u001b[1;34m'//div/td[1]'\u001b[0m\u001b[1;33m)\u001b[0m\u001b[1;33m\u001b[0m\u001b[1;33m\u001b[0m\u001b[0m\n\u001b[0;32m    393\u001b[0m         \"\"\"\n\u001b[1;32m--> 394\u001b[1;33m         \u001b[1;32mreturn\u001b[0m \u001b[0mself\u001b[0m\u001b[1;33m.\u001b[0m\u001b[0mfind_element\u001b[0m\u001b[1;33m(\u001b[0m\u001b[0mby\u001b[0m\u001b[1;33m=\u001b[0m\u001b[0mBy\u001b[0m\u001b[1;33m.\u001b[0m\u001b[0mXPATH\u001b[0m\u001b[1;33m,\u001b[0m \u001b[0mvalue\u001b[0m\u001b[1;33m=\u001b[0m\u001b[0mxpath\u001b[0m\u001b[1;33m)\u001b[0m\u001b[1;33m\u001b[0m\u001b[1;33m\u001b[0m\u001b[0m\n\u001b[0m\u001b[0;32m    395\u001b[0m \u001b[1;33m\u001b[0m\u001b[0m\n\u001b[0;32m    396\u001b[0m     \u001b[1;32mdef\u001b[0m \u001b[0mfind_elements_by_xpath\u001b[0m\u001b[1;33m(\u001b[0m\u001b[0mself\u001b[0m\u001b[1;33m,\u001b[0m \u001b[0mxpath\u001b[0m\u001b[1;33m)\u001b[0m\u001b[1;33m:\u001b[0m\u001b[1;33m\u001b[0m\u001b[1;33m\u001b[0m\u001b[0m\n",
      "\u001b[1;32m~\\anaconda3\\lib\\site-packages\\selenium\\webdriver\\remote\\webdriver.py\u001b[0m in \u001b[0;36mfind_element\u001b[1;34m(self, by, value)\u001b[0m\n\u001b[0;32m    976\u001b[0m         return self.execute(Command.FIND_ELEMENT, {\n\u001b[0;32m    977\u001b[0m             \u001b[1;34m'using'\u001b[0m\u001b[1;33m:\u001b[0m \u001b[0mby\u001b[0m\u001b[1;33m,\u001b[0m\u001b[1;33m\u001b[0m\u001b[1;33m\u001b[0m\u001b[0m\n\u001b[1;32m--> 978\u001b[1;33m             'value': value})['value']\n\u001b[0m\u001b[0;32m    979\u001b[0m \u001b[1;33m\u001b[0m\u001b[0m\n\u001b[0;32m    980\u001b[0m     \u001b[1;32mdef\u001b[0m \u001b[0mfind_elements\u001b[0m\u001b[1;33m(\u001b[0m\u001b[0mself\u001b[0m\u001b[1;33m,\u001b[0m \u001b[0mby\u001b[0m\u001b[1;33m=\u001b[0m\u001b[0mBy\u001b[0m\u001b[1;33m.\u001b[0m\u001b[0mID\u001b[0m\u001b[1;33m,\u001b[0m \u001b[0mvalue\u001b[0m\u001b[1;33m=\u001b[0m\u001b[1;32mNone\u001b[0m\u001b[1;33m)\u001b[0m\u001b[1;33m:\u001b[0m\u001b[1;33m\u001b[0m\u001b[1;33m\u001b[0m\u001b[0m\n",
      "\u001b[1;32m~\\anaconda3\\lib\\site-packages\\selenium\\webdriver\\remote\\webdriver.py\u001b[0m in \u001b[0;36mexecute\u001b[1;34m(self, driver_command, params)\u001b[0m\n\u001b[0;32m    319\u001b[0m         \u001b[0mresponse\u001b[0m \u001b[1;33m=\u001b[0m \u001b[0mself\u001b[0m\u001b[1;33m.\u001b[0m\u001b[0mcommand_executor\u001b[0m\u001b[1;33m.\u001b[0m\u001b[0mexecute\u001b[0m\u001b[1;33m(\u001b[0m\u001b[0mdriver_command\u001b[0m\u001b[1;33m,\u001b[0m \u001b[0mparams\u001b[0m\u001b[1;33m)\u001b[0m\u001b[1;33m\u001b[0m\u001b[1;33m\u001b[0m\u001b[0m\n\u001b[0;32m    320\u001b[0m         \u001b[1;32mif\u001b[0m \u001b[0mresponse\u001b[0m\u001b[1;33m:\u001b[0m\u001b[1;33m\u001b[0m\u001b[1;33m\u001b[0m\u001b[0m\n\u001b[1;32m--> 321\u001b[1;33m             \u001b[0mself\u001b[0m\u001b[1;33m.\u001b[0m\u001b[0merror_handler\u001b[0m\u001b[1;33m.\u001b[0m\u001b[0mcheck_response\u001b[0m\u001b[1;33m(\u001b[0m\u001b[0mresponse\u001b[0m\u001b[1;33m)\u001b[0m\u001b[1;33m\u001b[0m\u001b[1;33m\u001b[0m\u001b[0m\n\u001b[0m\u001b[0;32m    322\u001b[0m             response['value'] = self._unwrap_value(\n\u001b[0;32m    323\u001b[0m                 response.get('value', None))\n",
      "\u001b[1;32m~\\anaconda3\\lib\\site-packages\\selenium\\webdriver\\remote\\errorhandler.py\u001b[0m in \u001b[0;36mcheck_response\u001b[1;34m(self, response)\u001b[0m\n\u001b[0;32m    240\u001b[0m                 \u001b[0malert_text\u001b[0m \u001b[1;33m=\u001b[0m \u001b[0mvalue\u001b[0m\u001b[1;33m[\u001b[0m\u001b[1;34m'alert'\u001b[0m\u001b[1;33m]\u001b[0m\u001b[1;33m.\u001b[0m\u001b[0mget\u001b[0m\u001b[1;33m(\u001b[0m\u001b[1;34m'text'\u001b[0m\u001b[1;33m)\u001b[0m\u001b[1;33m\u001b[0m\u001b[1;33m\u001b[0m\u001b[0m\n\u001b[0;32m    241\u001b[0m             \u001b[1;32mraise\u001b[0m \u001b[0mexception_class\u001b[0m\u001b[1;33m(\u001b[0m\u001b[0mmessage\u001b[0m\u001b[1;33m,\u001b[0m \u001b[0mscreen\u001b[0m\u001b[1;33m,\u001b[0m \u001b[0mstacktrace\u001b[0m\u001b[1;33m,\u001b[0m \u001b[0malert_text\u001b[0m\u001b[1;33m)\u001b[0m\u001b[1;33m\u001b[0m\u001b[1;33m\u001b[0m\u001b[0m\n\u001b[1;32m--> 242\u001b[1;33m         \u001b[1;32mraise\u001b[0m \u001b[0mexception_class\u001b[0m\u001b[1;33m(\u001b[0m\u001b[0mmessage\u001b[0m\u001b[1;33m,\u001b[0m \u001b[0mscreen\u001b[0m\u001b[1;33m,\u001b[0m \u001b[0mstacktrace\u001b[0m\u001b[1;33m)\u001b[0m\u001b[1;33m\u001b[0m\u001b[1;33m\u001b[0m\u001b[0m\n\u001b[0m\u001b[0;32m    243\u001b[0m \u001b[1;33m\u001b[0m\u001b[0m\n\u001b[0;32m    244\u001b[0m     \u001b[1;32mdef\u001b[0m \u001b[0m_value_or_default\u001b[0m\u001b[1;33m(\u001b[0m\u001b[0mself\u001b[0m\u001b[1;33m,\u001b[0m \u001b[0mobj\u001b[0m\u001b[1;33m,\u001b[0m \u001b[0mkey\u001b[0m\u001b[1;33m,\u001b[0m \u001b[0mdefault\u001b[0m\u001b[1;33m)\u001b[0m\u001b[1;33m:\u001b[0m\u001b[1;33m\u001b[0m\u001b[1;33m\u001b[0m\u001b[0m\n",
      "\u001b[1;31mNoSuchElementException\u001b[0m: Message: no such element: Unable to locate element: {\"method\":\"xpath\",\"selector\":\"/html/body/div[4]/div/div/div[3]/button[2]\"}\n  (Session info: chrome=83.0.4103.116)\n"
     ]
    }
   ],
   "source": [
    "#credentials I imported, but replace IG_secret.secrets['USERNAME'] with your username. and IG_secret.secrets['PASSWORD']\n",
    "user=IG_secret.secrets['USERNAME']\n",
    "pswrd=IG_secret.secrets['PASSWORD']\n",
    "\n",
    "#locates the elements on the web that we want for input, and inputs our keys\n",
    "username = webdriver.find_element_by_name('username')\n",
    "username.send_keys(user)\n",
    "password = webdriver.find_element_by_name('password')\n",
    "password.send_keys(pswrd)\n",
    "button_login='//*[@id=\"react-root\"]/section/main/div/article/div/div[1]/div/form/div[4]/button'\n",
    "\n",
    "#finds the button and clicks on it\n",
    "webdriver.find_element_by_xpath(button_login).click()\n",
    "sleep(5)\n",
    "\n",
    "#for any button, just inspect the page, and copy full xpath and past it below. e.g.notnow is the full xpath of the pop up. \n",
    "notnow='/html/body/div[1]/section/main/div/div/div/div/button'\n",
    "webdriver.find_element_by_xpath(notnow).click() #comment these last 2 lines out, if you don't get a pop up asking about notifications"
   ]
  },
  {
   "cell_type": "code",
   "execution_count": null,
   "metadata": {},
   "outputs": [],
   "source": [
    "#chrome will browse the hashtag, like 64 photos: (range1,65), and inbetween the likes, will pause between 5-15 seconds. \n",
    "#Then it will move to the next hashtag and to the same. \n",
    "\n",
    "hashtag_list = ['torontoeats', 'tastetoronto']\n",
    "\n",
    "\n",
    "tag = -2\n",
    "likes = 0\n",
    "comments = 0\n",
    "\n",
    "button_like='/html/body/div[4]/div[2]/div/article/div[2]/section[1]/span[1]/button'\n",
    "button_comment='/html/body/div[4]/div[2]/div/article/div[2]/section[1]/span[2]/button'\n",
    "text_area='/html/body/div[4]/div[2]/div/article/div[2]/section[3]/div/form/textarea'\n",
    "button_post='/html/body/div[4]/div[2]/div/article/div[2]/section[3]/div/form/button'\n",
    "\n",
    "first_thumbnail='//*[@id=\"react-root\"]/section/main/article/div[1]/div/div/div[1]/div[1]/a/div[1]'\n",
    "\n",
    "for hashtag in hashtag_list:\n",
    "    tag=tag+1\n",
    "    webdriver.get('https://www.instagram.com/explore/tags/'+ hashtag_list[tag] + '/')\n",
    "    sleep(5)\n",
    "    webdriver.find_element_by_xpath(first_thumbnail).click()\n",
    "\n",
    "    for x in range(1,65):\n",
    "        sleep(3)\n",
    "        webdriver.find_element_by_xpath(button_like).click()        \n",
    "        likes += 1\n",
    "        sleep(randint(5,15))\n",
    "        if x==1:\n",
    "            next_button='/html/body/div[4]/div[1]/div/div/a'\n",
    "        else:\n",
    "            next_button='/html/body/div[4]/div[1]/div/div/a[2]'\n",
    "        webdriver.find_element_by_xpath(next_button).click()   \n",
    "    print(hashtag,\":\",'Liked {} photos.'.format(likes))    \n"
   ]
  },
  {
   "cell_type": "code",
   "execution_count": null,
   "metadata": {},
   "outputs": [],
   "source": [
    "#It can even comment on posts as well as likes them automatically. \n",
    "\n",
    "likes = 0\n",
    "button_like='/html/body/div[4]/div[2]/div/article/div[2]/section[1]/span[1]/button'\n",
    "button_comment='/html/body/div[4]/div[2]/div/article/div[2]/section[1]/span[2]/button'\n",
    "text_area='/html/body/div[4]/div[2]/div/article/div[2]/section[3]/div/form/textarea'\n",
    "button_post='/html/body/div[4]/div[2]/div/article/div[2]/section[3]/div/form/button'\n",
    "\n",
    "for x in range(1,45):\n",
    "    #like post \n",
    "    sleep(3)\n",
    "    webdriver.find_element_by_xpath(button_like).click()        \n",
    "    likes += 1\n",
    " \n",
    "    comment post \n",
    "    webdriver.find_element_by_xpath(button_comment).click()\n",
    "    sleep(3)\n",
    "    comment_box = webdriver.find_element_by_xpath(text_area)\n",
    "    comment_box.send_keys('love it :)')\n",
    "    random_comment = randint(1,4)\n",
    "    if random_comment==1:\n",
    "        comment_box.send_keys('Nice :)')\n",
    "    elif random_comment==2:\n",
    "        comment_box.send_keys(':)')#    \n",
    "    elif random_comment==3:\n",
    "        comment_box.send_keys('awesome')\n",
    "    elif random_comment==4:\n",
    "        comment_box.send_keys('sweet!')\n",
    "    comments += 1\n",
    "    sleep(3)\n",
    "    webdriver.find_element_by_xpath(button_post).click()\n",
    "    \n",
    "    #find next post button\n",
    "    sleep(randint(5,15))\n",
    "    #if x==1:\n",
    "        #next_button='/html/body/div[4]/div[1]/div/div/a'\n",
    "    #else:\n",
    "    next_button='/html/body/div[4]/div[1]/div/div/a[2]'\n",
    "    sleep(1)\n",
    "    webdriver.find_element_by_xpath(next_button).click()\n",
    "print(hashtag,\":\",'Liked {} photos.'.format(likes))    "
   ]
  }
 ],
 "metadata": {
  "kernelspec": {
   "display_name": "Python 3",
   "language": "python",
   "name": "python3"
  },
  "language_info": {
   "codemirror_mode": {
    "name": "ipython",
    "version": 3
   },
   "file_extension": ".py",
   "mimetype": "text/x-python",
   "name": "python",
   "nbconvert_exporter": "python",
   "pygments_lexer": "ipython3",
   "version": "3.7.6"
  }
 },
 "nbformat": 4,
 "nbformat_minor": 4
}
