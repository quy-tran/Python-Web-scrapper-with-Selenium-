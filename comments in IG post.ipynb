{
 "cells": [
  {
   "cell_type": "code",
   "execution_count": 1,
   "metadata": {},
   "outputs": [
    {
     "name": "stdout",
     "output_type": "stream",
     "text": [
      "Requirement already satisfied: selenium in c:\\users\\trnqu\\anaconda3\\lib\\site-packages (3.141.0)\n",
      "Requirement already satisfied: urllib3 in c:\\users\\trnqu\\anaconda3\\lib\\site-packages (from selenium) (1.25.8)\n",
      "Requirement already satisfied: webdriver-manager in c:\\users\\trnqu\\anaconda3\\lib\\site-packages (2.3.0)\n",
      "Requirement already satisfied: crayons in c:\\users\\trnqu\\anaconda3\\lib\\site-packages (from webdriver-manager) (0.3.0)\n",
      "Requirement already satisfied: requests in c:\\users\\trnqu\\anaconda3\\lib\\site-packages (from webdriver-manager) (2.11.1)\n",
      "Requirement already satisfied: configparser in c:\\users\\trnqu\\anaconda3\\lib\\site-packages (from webdriver-manager) (5.0.0)\n",
      "Requirement already satisfied: colorama in c:\\users\\trnqu\\anaconda3\\lib\\site-packages (from crayons->webdriver-manager) (0.4.3)\n"
     ]
    }
   ],
   "source": [
    "import pip\n",
    "!pip install selenium \n",
    "!pip install webdriver-manager"
   ]
  },
  {
   "cell_type": "code",
   "execution_count": 1,
   "metadata": {},
   "outputs": [],
   "source": [
    "from selenium import webdriver\n",
    "\n",
    "import time\n",
    "\n",
    "#from pandas.io.json import json_normalize\n",
    "import pandas as pd"
   ]
  },
  {
   "cell_type": "code",
   "execution_count": 6,
   "metadata": {},
   "outputs": [
    {
     "name": "stdout",
     "output_type": "stream",
     "text": [
      "\n",
      "Looking for [chromedriver 81.0.4044.69 win32] driver in cache \n",
      "File found in cache by path [C:\\Users\\trnqu\\.wdm\\drivers\\chromedriver\\81.0.4044.69\\win32\\chromedriver.exe]\n"
     ]
    }
   ],
   "source": [
    "#You will need a chrome webdriver for this. This will be Chrome's test browser and what you will be controlling using Selenium\n",
    "from webdriver_manager.chrome import ChromeDriverManager\n",
    "driver = webdriver.Chrome(ChromeDriverManager().install())\n"
   ]
  },
  {
   "cell_type": "code",
   "execution_count": 7,
   "metadata": {},
   "outputs": [],
   "source": [
    " #replace url with your IG url, or find any website you want to scrape. \n",
    "url= 'https://www.instagram.com/p/B3cuRxxh8ol/'\n",
    "driver.get(url)"
   ]
  },
  {
   "cell_type": "code",
   "execution_count": 8,
   "metadata": {},
   "outputs": [],
   "source": [
    "#You will need to inspect the html to find the tags you want your test browser to click on. \n",
    "#In this example, load_button loads more comments until there are no more loads available\n",
    "#We use sleep to create a delay so it does not look like test software\n",
    "#We also check if there are more loads so we know when to stop\n",
    "\n",
    "load_button='//*[@id=\"react-root\"]/section/main/div/div[1]/article/div[2]/div[1]/ul/li/div/button/span'\n",
    "hasLoadMore = True\n",
    "while hasLoadMore:\n",
    "    time.sleep(1)\n",
    "    try:\n",
    "        if driver.find_element_by_xpath(load_button):\n",
    "            driver.find_element_by_xpath(load_button).click()\n",
    "    except:\n",
    "        hasLoadMore = False\n"
   ]
  },
  {
   "cell_type": "code",
   "execution_count": 9,
   "metadata": {},
   "outputs": [
    {
     "name": "stdout",
     "output_type": "stream",
     "text": [
      "initial user: cfooodie\n",
      "initial comment: ‼️GIVEAWAY‼️I’ve teamed up with @yifangtea.ontario to give away FIVE drink vouchers as follows: 1st winner will win 3 vouchers & 2nd winner will win 2 vouchers 🍵 #shotoniphone⁣ ---⁣ To enter the giveaway:⁣ 1. Like this post⁣ 2. Follow @yifangtea.ontario & @cfooodie⁣ 3. Tag your bbtb (1 tag/line, unlimited entries)⁣ ---⁣ Giveaway ends Mon, Oct 14, 2019 at 9:00PM EST. Contest opened to Canadian residents only, winners must be able to claim their own prize, & provide a valid phone number. Goodluck ♥️⁣ ---⁣ #yifangtea #sponsored #yifangtoronto #yifangontario #bobatea #bobamilktea #bubbletea #bubbletealover #torontoblogger #torontogiveaway #tastetoronto #giveawaytoronto #torontocontest #blogTO @blogto #torontofood #huffposttaste #torontoinfluencer #narcitytoronto #doitforthegram #thedailybite #torontofoodie #markhamfood #curiocityTO #cfooodie\n"
     ]
    }
   ],
   "source": [
    "#We save what we want into lists. \n",
    "#In this example we are saving the user name and comments into separate lists. \n",
    "user_names = []\n",
    "user_comments = []\n",
    "comment = driver.find_elements_by_class_name('gElp9 ')\n",
    "for c in comment:\n",
    "    container = c.find_element_by_class_name('C4VMK')\n",
    "    name = container.find_element_by_class_name('_6lAjh').text\n",
    "    content = container.find_element_by_tag_name('span').text\n",
    "    content = content.replace('\\n', ' ').strip().rstrip()\n",
    "    user_names.append(name)\n",
    "    user_comments.append(content)\n",
    "print('initial user:', user_names.pop(0))\n",
    "print('initial comment:', user_comments.pop(0))\n",
    "\n"
   ]
  },
  {
   "cell_type": "code",
   "execution_count": 11,
   "metadata": {},
   "outputs": [],
   "source": [
    "#Let's save this somewhere for analysis. \n",
    "#creates dataframe with this and exports to excel\n",
    "df = pd.DataFrame(list(zip(user_names,user_comments)), columns =['Name', 'comments'])\n",
    "df.to_excel(r'Python Excel/export_giveawaycomments.xlsx', index = False)"
   ]
  },
  {
   "cell_type": "code",
   "execution_count": 15,
   "metadata": {},
   "outputs": [],
   "source": [
    " "
   ]
  },
  {
   "cell_type": "code",
   "execution_count": null,
   "metadata": {},
   "outputs": [],
   "source": []
  }
 ],
 "metadata": {
  "kernelspec": {
   "display_name": "Python 3",
   "language": "python",
   "name": "python3"
  },
  "language_info": {
   "codemirror_mode": {
    "name": "ipython",
    "version": 3
   },
   "file_extension": ".py",
   "mimetype": "text/x-python",
   "name": "python",
   "nbconvert_exporter": "python",
   "pygments_lexer": "ipython3",
   "version": "3.7.6"
  }
 },
 "nbformat": 4,
 "nbformat_minor": 4
}
